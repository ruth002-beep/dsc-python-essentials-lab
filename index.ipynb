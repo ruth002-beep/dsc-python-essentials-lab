{
 "cells": [
  {
   "cell_type": "markdown",
   "metadata": {},
   "source": [
    "# Python Essentials - Cumulative Lab\n",
    "\n",
    "## Introduction\n",
    "\n",
    "Congratulations, you made it through the new content for the first section of the prework! This cumulative lab will help you review and practice everything you've learned in this section — \"putting it all together\" into an analysis with real-world data.\n",
    "\n",
    "## Objectives\n",
    "You will be able to:\n",
    "\n",
    " - Recall the data types covered so far\n",
    " - Practice extracting information from a nested dataset\n",
    " - Practice generating insights with conditional logic\n",
    "\n",
    "## Your Task: Analyze Amazon Review Data\n",
    "\n",
    "For this lab we are going to be working with data collected by Computer Science researchers at the University of California, San Diego. Their full paper citation is here:\n",
    "> **Justifying recommendations using distantly-labeled reviews and fined-grained aspects**\n",
    "Jianmo Ni, Jiacheng Li, Julian McAuley\n",
    "Empirical Methods in Natural Language Processing (EMNLP), 2019\n",
    "[pdf](http://cseweb.ucsd.edu/~jmcauley/pdfs/emnlp19a.pdf)\n",
    "\n",
    "We are using a cleaned-up sample version of their [full dataset](https://nijianmo.github.io/amazon/index.html), which contains over 200 million reviews of products on Amazon.com. Specifically, a subset of reviews from the Home and Kitchen category about coffee-related products.\n",
    "\n",
    "![coffee preparation](https://curriculum-content.s3.amazonaws.com/data-science/images/coffee.jpg)\n",
    "\n",
    "<span>Photo by <a href=\"https://unsplash.com/@kfred?utm_source=unsplash&amp;utm_medium=referral&amp;utm_content=creditCopyText\">Karl Fredrickson</a> on <a href=\"https://unsplash.com/?utm_source=unsplash&amp;utm_medium=referral&amp;utm_content=creditCopyText\">Unsplash</a></span>\n",
    "\n",
    "### Requirements\n",
    "\n",
    "#### 1. Data Summary\n",
    "Write code that describes the number of records (dictionaries) in the dataset, as well as the features (keys) contained in each record.\n",
    "\n",
    "#### 2. Review Selection\n",
    "Create a variable `review_index` that can be changed, so that your code will select any review from the collection in order to print out information.\n",
    "\n",
    "#### 3. Review Summary\n",
    "\n",
    "##### a. Positive, Negative, or Neutral\n",
    "Print out information describing whether a review's rating is positive, negative, or neutral.\n",
    "\n",
    "##### b. Review Year\n",
    "Extract just the year from the review date\n",
    "\n",
    "##### c. BONUS: Image\n",
    "Use Jupyter Notebook functionality to display the first image from the review\n",
    "\n",
    "## Data Summary\n",
    "\n",
    "In the cell below, we've opened up the dataset and loaded it into a list of dictionaries called `reviews`."
   ]
  },
  {
   "cell_type": "code",
   "execution_count": 3,
   "metadata": {},
   "outputs": [
    {
     "data": {
      "text/plain": [
       "list"
      ]
     },
     "execution_count": 3,
     "metadata": {},
     "output_type": "execute_result"
    }
   ],
   "source": [
    "# Run this cell without changes\n",
    "import json\n",
    "with open(\"coffee_product_reviews.json\") as f:\n",
    "    reviews = json.load(f)\n",
    "type(reviews)"
   ]
  },
  {
   "cell_type": "markdown",
   "metadata": {},
   "source": [
    "In the cell below, delete `None` and replace it with appropriate code so the info printout is correct\n",
    "\n",
    "(In other words: when you're done, you should have code to find the number of entries in the `reviews` list, i.e. the size or length of the list)"
   ]
  },
  {
   "cell_type": "code",
   "execution_count": 19,
   "metadata": {},
   "outputs": [
    {
     "data": {
      "text/plain": [
       "[{'rating': 5.0,\n",
       "  'reviewer_name': 'Sns073194',\n",
       "  'product_id': 'B00004RFRV',\n",
       "  'review_title': 'Perfect cafsito every time',\n",
       "  'review_time': '03 11, 2018',\n",
       "  'images': ['https://images-na.ssl-images-amazon.com/images/I/71d2cQEgJsL._SY88.jpg'],\n",
       "  'styles': {'Size:': ' 6-Cup', 'Color:': ' Silver'}},\n",
       " {'rating': 5.0,\n",
       "  'reviewer_name': 'Maverick',\n",
       "  'product_id': 'B00004RFRV',\n",
       "  'review_title': 'Delicious results from a wonderfully simple Bialetti Moka Express!',\n",
       "  'review_time': '12 3, 2017',\n",
       "  'images': ['https://images-na.ssl-images-amazon.com/images/I/61NG30sWdJL._SY88.jpg'],\n",
       "  'styles': {'Size:': ' 1-Cup', 'Color:': ' Silver'}},\n",
       " {'rating': 5.0,\n",
       "  'reviewer_name': 'Karen',\n",
       "  'product_id': 'B00004RFRV',\n",
       "  'review_title': 'Bialetti is the Best!',\n",
       "  'review_time': '11 12, 2017',\n",
       "  'images': ['https://images-na.ssl-images-amazon.com/images/I/81+XxFRGyBL._SY88.jpg'],\n",
       "  'styles': {'Size:': ' 12-Cup', 'Color:': ' Silver'}},\n",
       " {'rating': 5.0,\n",
       "  'reviewer_name': 'Feles (muy Mala)',\n",
       "  'product_id': 'B00004RFRV',\n",
       "  'review_title': 'Awesome portion control for one person!',\n",
       "  'review_time': '08 5, 2017',\n",
       "  'images': ['https://images-na.ssl-images-amazon.com/images/I/71BcwbkGyfL._SY88.jpg'],\n",
       "  'styles': {'Size:': ' 6-Cup', 'Color:': ' Purple'}},\n",
       " {'rating': 1.0,\n",
       "  'reviewer_name': 'EJ',\n",
       "  'product_id': 'B00004RFRV',\n",
       "  'review_title': 'Rusted spots everywhere fresh out the box...nasty',\n",
       "  'review_time': '06 4, 2017',\n",
       "  'images': ['https://images-na.ssl-images-amazon.com/images/I/71Dbr6X0bYL._SY88.jpg'],\n",
       "  'styles': {'Size:': ' 9-Cup', 'Color:': ' Silver'}},\n",
       " {'rating': 5.0,\n",
       "  'reviewer_name': 'JohnInNC',\n",
       "  'product_id': 'B00004RFRV',\n",
       "  'review_title': 'To Moka, or not to Moka...',\n",
       "  'review_time': '03 24, 2017',\n",
       "  'images': ['https://images-na.ssl-images-amazon.com/images/I/710e2kQhIZL._SY88.jpg'],\n",
       "  'styles': {'Size:': ' 1-Cup', 'Color:': ' Silver'}},\n",
       " {'rating': 5.0,\n",
       "  'reviewer_name': 'ArmiWyf',\n",
       "  'product_id': 'B00004RFRV',\n",
       "  'review_title': 'LUV IT!!!',\n",
       "  'review_time': '09 2, 2016',\n",
       "  'images': ['https://images-na.ssl-images-amazon.com/images/I/61sbRLnd2UL._SY88.jpg'],\n",
       "  'styles': {'Size:': ' 12-Cup', 'Color:': ' Silver'}},\n",
       " {'rating': 1.0,\n",
       "  'reviewer_name': 'mathman54',\n",
       "  'product_id': 'B00004RFRV',\n",
       "  'review_title': \"The bottom looks like it has rusted and I don't know how to ...\",\n",
       "  'review_time': '02 15, 2016',\n",
       "  'images': ['https://images-na.ssl-images-amazon.com/images/I/71qt4Hnra8L._SY88.jpg',\n",
       "   'https://images-na.ssl-images-amazon.com/images/I/71Wkg8MesdL._SY88.jpg'],\n",
       "  'styles': {'Size:': ' 12-Cup', 'Color:': ' Silver'}},\n",
       " {'rating': 5.0,\n",
       "  'reviewer_name': 'Sierra&#039;s Mom',\n",
       "  'product_id': 'B00004RFRV',\n",
       "  'review_title': 'Allow the auroma of perculated coffee to fill your home......',\n",
       "  'review_time': '12 15, 2015',\n",
       "  'images': ['https://images-na.ssl-images-amazon.com/images/I/61yZTZEoAYL._SY88.jpg',\n",
       "   'https://images-na.ssl-images-amazon.com/images/I/61eF-9jsE0L._SY88.jpg'],\n",
       "  'styles': {'Size:': ' 12-Cup', 'Color:': ' Silver'}},\n",
       " {'rating': 5.0,\n",
       "  'reviewer_name': 'Patrick523',\n",
       "  'product_id': 'B00004RFRV',\n",
       "  'review_title': 'Intoxicating aroma',\n",
       "  'review_time': '11 13, 2015',\n",
       "  'images': ['https://images-na.ssl-images-amazon.com/images/I/718ORINhFvL._SY88.jpg'],\n",
       "  'styles': {'Size:': ' 6-Cup', 'Color:': ' Silver'}},\n",
       " {'rating': 5.0,\n",
       "  'reviewer_name': 'chuckreviews',\n",
       "  'product_id': 'B00004S1CV',\n",
       "  'review_title': 'Works for coffee to !',\n",
       "  'review_time': '10 6, 2013',\n",
       "  'images': ['https://images-na.ssl-images-amazon.com/images/I/41pm7nxY7WL._SY88.jpg'],\n",
       "  'styles': {'Size:': ' A', 'Package Quantity:': ' 1'}},\n",
       " {'rating': 5.0,\n",
       "  'reviewer_name': 'B. Laska',\n",
       "  'product_id': 'B00004RFRV',\n",
       "  'review_title': 'Love my Moka pots!',\n",
       "  'review_time': '07 9, 2015',\n",
       "  'images': ['https://images-na.ssl-images-amazon.com/images/I/719NCqw4GML._SY88.jpg'],\n",
       "  'styles': {'Size:': ' 1-Cup', 'Color:': ' Silver'}},\n",
       " {'rating': 1.0,\n",
       "  'reviewer_name': 'Maria Fernandez',\n",
       "  'product_id': 'B00004RFRV',\n",
       "  'review_title': 'Is it a Bialetti? Came dirty with coffee grounds.',\n",
       "  'review_time': '03 22, 2015',\n",
       "  'images': ['https://images-na.ssl-images-amazon.com/images/I/71aPg3ZuCzL._SY88.jpg',\n",
       "   'https://images-na.ssl-images-amazon.com/images/I/71-2keZacOL._SY88.jpg',\n",
       "   'https://images-na.ssl-images-amazon.com/images/I/71Z4C4G-0dL._SY88.jpg'],\n",
       "  'styles': {'Size:': ' 6-Cup', 'Color:': ' Silver'}},\n",
       " {'rating': 5.0,\n",
       "  'reviewer_name': 'Mike Tarrani',\n",
       "  'product_id': 'B00004RFRV',\n",
       "  'review_title': 'Size sometimes matters',\n",
       "  'review_time': '03 7, 2013',\n",
       "  'images': ['https://images-na.ssl-images-amazon.com/images/I/71aRHnB4ATL._SY88.jpg'],\n",
       "  'styles': {'Size:': ' 12-Cup', 'Color:': ' Silver'}},\n",
       " {'rating': 5.0,\n",
       "  'reviewer_name': 'N. Lazar',\n",
       "  'product_id': 'B00004RFRV',\n",
       "  'review_title': 'My number 1 method for making coffee',\n",
       "  'review_time': '02 7, 2013',\n",
       "  'images': ['https://images-na.ssl-images-amazon.com/images/I/61+77CLdkpL._SY88.jpg'],\n",
       "  'styles': {'Size:': ' 6-Cup', 'Color:': ' Silver'}},\n",
       " {'rating': 5.0,\n",
       "  'reviewer_name': 'Jonathan Sabin',\n",
       "  'product_id': 'B00004RFRV',\n",
       "  'review_title': 'Smooo---ooo----oooo--th!!',\n",
       "  'review_time': '10 2, 2007',\n",
       "  'images': ['https://images-na.ssl-images-amazon.com/images/I/51XtijrZHBL._SY88.jpg'],\n",
       "  'styles': {'Size:': ' 6-Cup', 'Color:': ' Silver'}},\n",
       " {'rating': 5.0,\n",
       "  'reviewer_name': 'Alexander Lamakin',\n",
       "  'product_id': 'B00004S8DX',\n",
       "  'review_title': 'This is my good buy.',\n",
       "  'review_time': '11 29, 2016',\n",
       "  'images': ['https://images-na.ssl-images-amazon.com/images/I/7184SwO3X-L._SY88.jpg'],\n",
       "  'styles': {'Size:': ' Regular-used'}},\n",
       " {'rating': 5.0,\n",
       "  'reviewer_name': 'Joseph P. Long',\n",
       "  'product_id': 'B00004SPD9',\n",
       "  'review_title': 'This thing is awesome!',\n",
       "  'review_time': '12 31, 2008',\n",
       "  'images': ['https://images-na.ssl-images-amazon.com/images/I/615ODQakzjL._SY88.jpg'],\n",
       "  'styles': {'Color:': ' Walnut (Hand Coffee Mill)'}},\n",
       " {'rating': 5.0,\n",
       "  'reviewer_name': 'stampmom9 Dawn Gallop',\n",
       "  'product_id': 'B00004SPD9',\n",
       "  'review_title': 'Wonderful coffee grinder!',\n",
       "  'review_time': '03 3, 2016',\n",
       "  'images': ['https://images-na.ssl-images-amazon.com/images/I/71YBeh+J1rL._SY88.jpg'],\n",
       "  'styles': {'Color:': ' Walnut'}},\n",
       " {'rating': 4.0,\n",
       "  'reviewer_name': 'jason wheeler',\n",
       "  'product_id': 'B00004W4UQ',\n",
       "  'review_title': 'As described. Nice.',\n",
       "  'review_time': '07 6, 2016',\n",
       "  'images': ['https://images-na.ssl-images-amazon.com/images/I/71lxd+GJoEL._SY88.jpg'],\n",
       "  'styles': {'Package Quantity:': ' 1'}},\n",
       " {'rating': 1.0,\n",
       "  'reviewer_name': 'Toni Bautista',\n",
       "  'product_id': 'B00005IBX9',\n",
       "  'review_title': 'Great but NOT PERFECT -missing Side water panel',\n",
       "  'review_time': '02 24, 2017',\n",
       "  'images': ['https://images-na.ssl-images-amazon.com/images/I/71X5NEjZG5L._SY88.jpg'],\n",
       "  'styles': {'Color:': ' Brushed Chrome'}},\n",
       " {'rating': 5.0,\n",
       "  'reviewer_name': 'ERO - Edge',\n",
       "  'product_id': 'B00005IBX9',\n",
       "  'review_title': 'Holding up just fine.',\n",
       "  'review_time': '05 8, 2011',\n",
       "  'images': ['https://images-na.ssl-images-amazon.com/images/I/510LMp8tiqL._SY88.jpg'],\n",
       "  'styles': {'Color:': ' Brushed Chrome'}},\n",
       " {'rating': 4.0,\n",
       "  'reviewer_name': 'Jittoku',\n",
       "  'product_id': 'B00005LM0T',\n",
       "  'review_title': 'Wonderful French Press, but not without its problems',\n",
       "  'review_time': '04 5, 2018',\n",
       "  'images': ['https://images-na.ssl-images-amazon.com/images/I/71in+P1+Q7L._SY88.jpg',\n",
       "   'https://images-na.ssl-images-amazon.com/images/I/71AS29KGbPL._SY88.jpg'],\n",
       "  'styles': {'Size:': ' 17 oz.', 'Package Type:': ' Standard Packaging'}},\n",
       " {'rating': 5.0,\n",
       "  'reviewer_name': 'Nancy Howe',\n",
       "  'product_id': 'B00005LM0V',\n",
       "  'review_title': 'Wonderful for Special Occasions or Coffee Emergencies!',\n",
       "  'review_time': '05 13, 2015',\n",
       "  'images': ['https://images-na.ssl-images-amazon.com/images/I/61H3kUofLbL._SY88.jpg'],\n",
       "  'styles': {'Size:': ' 34 oz.', 'Color:': ' Gold'}},\n",
       " {'rating': 1.0,\n",
       "  'reviewer_name': 'SAinVA',\n",
       "  'product_id': 'B00005LM0T',\n",
       "  'review_title': 'Too much waste',\n",
       "  'review_time': '09 7, 2017',\n",
       "  'images': ['https://images-na.ssl-images-amazon.com/images/I/71shZggLRHL._SY88.jpg'],\n",
       "  'styles': {'Size:': ' 34 oz.', 'Package Type:': ' Standard Packaging'}},\n",
       " {'rating': 4.0,\n",
       "  'reviewer_name': 'Honest Rating',\n",
       "  'product_id': 'B00005LM0V',\n",
       "  'review_title': 'absolutely gorgeous!',\n",
       "  'review_time': '04 3, 2012',\n",
       "  'images': ['https://images-na.ssl-images-amazon.com/images/I/716bNNBjFSL._SY88.png'],\n",
       "  'styles': {'Size:': ' 34 oz.', 'Color:': ' Gold'}},\n",
       " {'rating': 4.0,\n",
       "  'reviewer_name': 'Taylor Shmaylor',\n",
       "  'product_id': 'B00005LM0T',\n",
       "  'review_title': 'Nice and large, but a pain to press',\n",
       "  'review_time': '12 21, 2016',\n",
       "  'images': ['https://images-na.ssl-images-amazon.com/images/I/71H40hLOIZL._SY88.jpg',\n",
       "   'https://images-na.ssl-images-amazon.com/images/I/817jof9F7vL._SY88.jpg'],\n",
       "  'styles': {'Size:': ' 51 oz.', 'Package Type:': ' Standard Packaging'}},\n",
       " {'rating': 1.0,\n",
       "  'reviewer_name': 'Silicon Valley',\n",
       "  'product_id': 'B00005LM0T',\n",
       "  'review_title': 'FRAME RUSTS WITHIN A FEW WEEKS',\n",
       "  'review_time': '03 10, 2016',\n",
       "  'images': ['https://images-na.ssl-images-amazon.com/images/I/71FREAeBLIL._SY88.jpg',\n",
       "   'https://images-na.ssl-images-amazon.com/images/I/71qkhDjseuL._SY88.jpg',\n",
       "   'https://images-na.ssl-images-amazon.com/images/I/7143mVMMoCL._SY88.jpg'],\n",
       "  'styles': {'Size:': ' 34 oz.', 'Package Type:': ' Standard Packaging'}},\n",
       " {'rating': 5.0,\n",
       "  'reviewer_name': 'AA',\n",
       "  'product_id': 'B00005LM0T',\n",
       "  'review_title': 'A great way to get rich tasting coffee.',\n",
       "  'review_time': '12 7, 2015',\n",
       "  'images': ['https://images-na.ssl-images-amazon.com/images/I/51IabPZ-+2L._SY88.jpg'],\n",
       "  'styles': {'Size:': ' 51 oz.', 'Package Type:': ' Standard Packaging'}},\n",
       " {'rating': 5.0,\n",
       "  'reviewer_name': 'Nicholas Driscoll',\n",
       "  'product_id': 'B00005LM0T',\n",
       "  'review_title': 'It makes a great cup of joe and looks as if it will ...',\n",
       "  'review_time': '11 11, 2015',\n",
       "  'images': ['https://images-na.ssl-images-amazon.com/images/I/71jfdlOLIxL._SY88.jpg'],\n",
       "  'styles': {'Size:': ' 12 oz.', 'Package Type:': ' Standard Packaging'}},\n",
       " {'rating': 5.0,\n",
       "  'reviewer_name': 'Jan',\n",
       "  'product_id': 'B00005MF9C',\n",
       "  'review_title': \"... yet but bought what I think will be a better mug because it's stainless inside & out unlike the ...\",\n",
       "  'review_time': '07 13, 2017',\n",
       "  'images': ['https://images-na.ssl-images-amazon.com/images/I/61+FIYkLBIL._SY88.jpg'],\n",
       "  'styles': {'Color:': ' Black/Stainless Steel'}},\n",
       " {'rating': 1.0,\n",
       "  'reviewer_name': 'Andrew Furlong',\n",
       "  'product_id': 'B00005MF9C',\n",
       "  'review_title': 'but instead ran along the underside of the part of the maker that holds the grounds and finally dropping at an angle at which a',\n",
       "  'review_time': '02 22, 2017',\n",
       "  'images': ['https://images-na.ssl-images-amazon.com/images/I/71kh1XatynL._SY88.jpg'],\n",
       "  'styles': {'Color:': ' Black/Stainless Steel'}},\n",
       " {'rating': 5.0,\n",
       "  'reviewer_name': 'catherine',\n",
       "  'product_id': 'B00005MF9C',\n",
       "  'review_title': '1800 Cups and Still Going Strong!',\n",
       "  'review_time': '10 8, 2016',\n",
       "  'images': ['https://images-na.ssl-images-amazon.com/images/I/71UQk1cCY+L._SY88.jpg'],\n",
       "  'styles': {'Color:': ' Black/Stainless Steel'}},\n",
       " {'rating': 2.0,\n",
       "  'reviewer_name': 'fred o.',\n",
       "  'product_id': 'B00005MF9C',\n",
       "  'review_title': 'Good purchase',\n",
       "  'review_time': '09 4, 2016',\n",
       "  'images': ['https://images-na.ssl-images-amazon.com/images/I/71tRehtvN+L._SY88.jpg',\n",
       "   'https://images-na.ssl-images-amazon.com/images/I/719K20U+MaL._SY88.jpg',\n",
       "   'https://images-na.ssl-images-amazon.com/images/I/71jd6yc1GdL._SY88.jpg'],\n",
       "  'styles': {'Color:': ' Black/White'}},\n",
       " {'rating': 1.0,\n",
       "  'reviewer_name': 'fifrox',\n",
       "  'product_id': 'B00005MF9C',\n",
       "  'review_title': 'Works great for a week then fails!',\n",
       "  'review_time': '03 10, 2016',\n",
       "  'images': ['https://images-na.ssl-images-amazon.com/images/I/81QVkUT4hdL._SY88.jpg'],\n",
       "  'styles': {'Color:': ' Black/Stainless Steel'}},\n",
       " {'rating': 4.0,\n",
       "  'reviewer_name': 'KV Trout',\n",
       "  'product_id': 'B00005MF9C',\n",
       "  'review_title': 'This is a really good coffee maker although poorly designed',\n",
       "  'review_time': '01 15, 2013',\n",
       "  'images': ['https://images-na.ssl-images-amazon.com/images/I/51-1nHWM3FL._SY88.jpg'],\n",
       "  'styles': {'Color:': ' Black/Stainless Steel'}},\n",
       " {'rating': 4.0,\n",
       "  'reviewer_name': 'Sinister',\n",
       "  'product_id': 'B00005NCX5',\n",
       "  'review_title': 'So far, so good!',\n",
       "  'review_time': '09 9, 2017',\n",
       "  'images': ['https://images-na.ssl-images-amazon.com/images/I/71i48+HIQYL._SY88.jpg'],\n",
       "  'styles': {'Style Name:': ' Coffee Maker'}},\n",
       " {'rating': 5.0,\n",
       "  'reviewer_name': 'Dale E. Hammerschmidt',\n",
       "  'product_id': 'B00005NCWY',\n",
       "  'review_title': 'A terrific pan for baking Gugelhupf',\n",
       "  'review_time': '03 13, 2017',\n",
       "  'images': ['https://images-na.ssl-images-amazon.com/images/I/81xWjiIDOpL._SY88.jpg'],\n",
       "  'styles': {'Style Name:': ' Bavarian'}},\n",
       " {'rating': 1.0,\n",
       "  'reviewer_name': 'cas',\n",
       "  'product_id': 'B00005NCWQ',\n",
       "  'review_title': 'Garbage!!!',\n",
       "  'review_time': '03 26, 2018',\n",
       "  'images': ['https://images-na.ssl-images-amazon.com/images/I/71Bxydi3DQL._SY88.jpg'],\n",
       "  'styles': {'Size:': ' 8-Cup'}},\n",
       " {'rating': 3.0,\n",
       "  'reviewer_name': 'Travis F.',\n",
       "  'product_id': 'B00005NCWQ',\n",
       "  'review_title': 'Does not work with Induction',\n",
       "  'review_time': '03 10, 2018',\n",
       "  'images': ['https://images-na.ssl-images-amazon.com/images/I/71Oqvd7OPdL._SY88.jpg',\n",
       "   'https://images-na.ssl-images-amazon.com/images/I/71imtEXj8pL._SY88.jpg'],\n",
       "  'styles': {'Size:': ' 8-Cup'}},\n",
       " {'rating': 5.0,\n",
       "  'reviewer_name': 'Amazon Customer',\n",
       "  'product_id': 'B00005NCWQ',\n",
       "  'review_title': 'Clean look.',\n",
       "  'review_time': '07 23, 2017',\n",
       "  'images': ['https://images-na.ssl-images-amazon.com/images/I/719iwV+++SL._SY88.jpg',\n",
       "   'https://images-na.ssl-images-amazon.com/images/I/710uNQXmpyL._SY88.jpg'],\n",
       "  'styles': {'Size:': ' 8-Cup'}},\n",
       " {'rating': 5.0,\n",
       "  'reviewer_name': 'Jean-Claude Van Darn',\n",
       "  'product_id': 'B00005NCWQ',\n",
       "  'review_title': 'Well made with a charming nostalgic design.',\n",
       "  'review_time': '05 22, 2017',\n",
       "  'images': ['https://images-na.ssl-images-amazon.com/images/I/613Dj78CiqL._SY88.jpg'],\n",
       "  'styles': {'Size:': ' 8-Cup'}},\n",
       " {'rating': 4.0,\n",
       "  'reviewer_name': 'Chief',\n",
       "  'product_id': 'B00005NCWQ',\n",
       "  'review_title': 'Farberware Yosemite Percolator',\n",
       "  'review_time': '04 29, 2017',\n",
       "  'images': ['https://images-na.ssl-images-amazon.com/images/I/615l-Cs9elL._SY88.jpg'],\n",
       "  'styles': {'Size:': ' 8-Cup'}},\n",
       " {'rating': 5.0,\n",
       "  'reviewer_name': 'dvrmasik',\n",
       "  'product_id': 'B00005NCWQ',\n",
       "  'review_title': 'rich and aromatic coffee',\n",
       "  'review_time': '05 5, 2016',\n",
       "  'images': ['https://images-na.ssl-images-amazon.com/images/I/81fgcTsXRwL._SY88.jpg',\n",
       "   'https://images-na.ssl-images-amazon.com/images/I/81bsfG7k7kL._SY88.jpg'],\n",
       "  'styles': {'Size:': ' 8-Cup'}},\n",
       " {'rating': 5.0,\n",
       "  'reviewer_name': 'Tommygun',\n",
       "  'product_id': 'B00005NCWQ',\n",
       "  'review_title': 'Makes terrific coffee!',\n",
       "  'review_time': '05 5, 2015',\n",
       "  'images': ['https://images-na.ssl-images-amazon.com/images/I/81IiiimYqNL._SY88.jpg'],\n",
       "  'styles': {'Size:': ' 8-Cup'}},\n",
       " {'rating': 5.0,\n",
       "  'reviewer_name': 'Marilyn',\n",
       "  'product_id': 'B00005NCWQ',\n",
       "  'review_title': 'Best coffee...Love it!',\n",
       "  'review_time': '04 27, 2015',\n",
       "  'images': ['https://images-na.ssl-images-amazon.com/images/I/71imaNbUlvL._SY88.jpg'],\n",
       "  'styles': {'Size:': ' 8-Cup'}},\n",
       " {'rating': 5.0,\n",
       "  'reviewer_name': 'Howright',\n",
       "  'product_id': 'B00005NCWQ',\n",
       "  'review_title': \"Best purchase I've made in a long time!\",\n",
       "  'review_time': '09 7, 2012',\n",
       "  'images': ['https://images-na.ssl-images-amazon.com/images/I/417LVTzsk3L._SY88.jpg',\n",
       "   'https://images-na.ssl-images-amazon.com/images/I/61LX5gTz0WL._SY88.jpg',\n",
       "   'https://images-na.ssl-images-amazon.com/images/I/51xXobRMjKL._SY88.jpg',\n",
       "   'https://images-na.ssl-images-amazon.com/images/I/71rJSPhJiQL._SY88.jpg'],\n",
       "  'styles': {'Size:': ' 8-Cup'}},\n",
       " {'rating': 3.0,\n",
       "  'reviewer_name': 'Peter DP',\n",
       "  'product_id': 'B00005OTXM',\n",
       "  'review_title': \"Mr. Coffee DWX23 12-cup doesn't have the quality feel as my 13 year old nearly identical 12-cup Mr. Coffee\",\n",
       "  'review_time': '04 17, 2015',\n",
       "  'images': ['https://images-na.ssl-images-amazon.com/images/I/71sFKwTW9sL._SY88.jpg'],\n",
       "  'styles': {'Style Name:': ' COFFEE MAKER ONLY'}},\n",
       " {'rating': 1.0,\n",
       "  'reviewer_name': 'GoClick',\n",
       "  'product_id': 'B00005OTXM',\n",
       "  'review_title': 'Returned - produced revolting burnt plastic flavored coffee, and seemed flawed.',\n",
       "  'review_time': '04 16, 2015',\n",
       "  'images': ['https://images-na.ssl-images-amazon.com/images/I/71o+7Zru+iL._SY88.jpg',\n",
       "   'https://images-na.ssl-images-amazon.com/images/I/81sbfP4tc8L._SY88.jpg',\n",
       "   'https://images-na.ssl-images-amazon.com/images/I/71vhOebyGaL._SY88.jpg'],\n",
       "  'styles': {'Style Name:': ' COFFEE MAKER ONLY'}},\n",
       " {'rating': 5.0,\n",
       "  'reviewer_name': 'A. Kronberg',\n",
       "  'product_id': 'B00005OTXY',\n",
       "  'review_title': 'this pot did a great job of boiling water in 20 minutes',\n",
       "  'review_time': '09 4, 2017',\n",
       "  'images': ['https://images-na.ssl-images-amazon.com/images/I/71jzwfSoRiL._SY88.jpg'],\n",
       "  'styles': {'Size:': ' One Size', 'Color:': ' Black'}},\n",
       " {'rating': 5.0,\n",
       "  'reviewer_name': 'Wyo Steve',\n",
       "  'product_id': 'B00005RKOF',\n",
       "  'review_title': 'Perfect coffee water measuring cup',\n",
       "  'review_time': '12 23, 2015',\n",
       "  'images': ['https://images-na.ssl-images-amazon.com/images/I/718MLN9OSxL._SY88.jpg'],\n",
       "  'styles': {'Size:': ' 4 Cup'}},\n",
       " {'rating': 5.0,\n",
       "  'reviewer_name': 'Melissa Coy',\n",
       "  'product_id': 'B00005U2DO',\n",
       "  'review_title': 'Best piece of furniture my daughter has!',\n",
       "  'review_time': '03 13, 2017',\n",
       "  'images': ['https://images-na.ssl-images-amazon.com/images/I/71rb1uAvjBL._SY88.jpg',\n",
       "   'https://images-na.ssl-images-amazon.com/images/I/716AxHe-idL._SY88.jpg'],\n",
       "  'styles': {'Size:': ' 1', 'Color:': ' White'}},\n",
       " {'rating': 3.0,\n",
       "  'reviewer_name': 'Donald E. Fulton',\n",
       "  'product_id': 'B00005V3BM',\n",
       "  'review_title': 'Simple, 4 cup coffee maker, looks nice, difficult basket hinge',\n",
       "  'review_time': '08 25, 2012',\n",
       "  'images': ['https://images-na.ssl-images-amazon.com/images/I/51egXCgLkOL._SY88.jpg',\n",
       "   'https://images-na.ssl-images-amazon.com/images/I/51WvgNVi5kL._SY88.jpg'],\n",
       "  'styles': {'Color:': ' Black'}},\n",
       " {'rating': 5.0,\n",
       "  'reviewer_name': 'KMac',\n",
       "  'product_id': 'B00005YY9X',\n",
       "  'review_title': 'If you want to keep it hot, get this one.',\n",
       "  'review_time': '03 25, 2016',\n",
       "  'images': ['https://images-na.ssl-images-amazon.com/images/I/515O4b7qYYL._SY88.jpg',\n",
       "   'https://images-na.ssl-images-amazon.com/images/I/613jmjPEGuL._SY88.jpg',\n",
       "   'https://images-na.ssl-images-amazon.com/images/I/61ML+yO6EPL._SY88.jpg',\n",
       "   'https://images-na.ssl-images-amazon.com/images/I/61uflGldJcL._SY88.jpg'],\n",
       "  'styles': {'Size:': ' 51 oz.'}},\n",
       " {'rating': 3.0,\n",
       "  'reviewer_name': 'agihawaii',\n",
       "  'product_id': 'B00005YY9X',\n",
       "  'review_title': \"It's 4 measuring cups.\",\n",
       "  'review_time': '09 24, 2015',\n",
       "  'images': ['https://images-na.ssl-images-amazon.com/images/I/71v0PQUwVpL._SY88.jpg',\n",
       "   'https://images-na.ssl-images-amazon.com/images/I/71I0U4nTqJL._SY88.jpg',\n",
       "   'https://images-na.ssl-images-amazon.com/images/I/71z3rQySZ0L._SY88.jpg'],\n",
       "  'styles': {'Size:': ' 34 oz.'}},\n",
       " {'rating': 5.0,\n",
       "  'reviewer_name': 'Alice Wakefield',\n",
       "  'product_id': 'B00005YY9X',\n",
       "  'review_title': '12 years of heavy use - lasted longer than ex-husband',\n",
       "  'review_time': '10 6, 2007',\n",
       "  'images': ['https://images-na.ssl-images-amazon.com/images/I/51+LtjCP8HL._SY88.jpg'],\n",
       "  'styles': {'Size:': ' 34 oz.'}},\n",
       " {'rating': 5.0,\n",
       "  'reviewer_name': 'Cherie E.',\n",
       "  'product_id': 'B000063SRL',\n",
       "  'review_title': 'More than just a cutting board!',\n",
       "  'review_time': '08 10, 2016',\n",
       "  'images': ['https://images-na.ssl-images-amazon.com/images/I/61oleNoBZ7L._SY88.jpg',\n",
       "   'https://images-na.ssl-images-amazon.com/images/I/71FumLGotfL._SY88.jpg',\n",
       "   'https://images-na.ssl-images-amazon.com/images/I/71MHMHDel+L._SY88.jpg',\n",
       "   'https://images-na.ssl-images-amazon.com/images/I/61gZsMGlRlL._SY88.jpg',\n",
       "   'https://images-na.ssl-images-amazon.com/images/I/61QVdUMKB2L._SY88.jpg'],\n",
       "  'styles': {'Size:': ' 14 by 17 inches', 'Color:': ' Granite Color'}},\n",
       " {'rating': 5.0,\n",
       "  'reviewer_name': 'A. Sullivan',\n",
       "  'product_id': 'B000063SSI',\n",
       "  'review_title': 'Hand wash only',\n",
       "  'review_time': '06 10, 2015',\n",
       "  'images': ['https://images-na.ssl-images-amazon.com/images/I/71j9qBm514L._SY88.jpg'],\n",
       "  'styles': {'Package Quantity:': ' 1'}},\n",
       " {'rating': 2.0,\n",
       "  'reviewer_name': 'Picks n Pans',\n",
       "  'product_id': 'B00006F2LW',\n",
       "  'review_title': 'Cracked lid out of the box',\n",
       "  'review_time': '02 27, 2008',\n",
       "  'images': ['https://images-na.ssl-images-amazon.com/images/I/317fvUiuNDL._SY88.jpg'],\n",
       "  'styles': {'Color:': ' Black'}},\n",
       " {'rating': 5.0,\n",
       "  'reviewer_name': 'Kindle Customer',\n",
       "  'product_id': 'B00006IFQJ',\n",
       "  'review_title': 'I love this small butter pot',\n",
       "  'review_time': '05 18, 2016',\n",
       "  'images': ['https://images-na.ssl-images-amazon.com/images/I/71vU2ujX1hL._SY88.jpg',\n",
       "   'https://images-na.ssl-images-amazon.com/images/I/71UpfzCjryL._SY88.jpg'],\n",
       "  'styles': {'Size:': ' None', 'Color:': ' Silver'}},\n",
       " {'rating': 5.0,\n",
       "  'reviewer_name': 'Terri S',\n",
       "  'product_id': 'B00006IFQJ',\n",
       "  'review_title': 'Perfect for those people who care about their time in the kitchen',\n",
       "  'review_time': '04 27, 2016',\n",
       "  'images': ['https://images-na.ssl-images-amazon.com/images/I/81dX1CZUbkL._SY88.jpg',\n",
       "   'https://images-na.ssl-images-amazon.com/images/I/813g2O-7M4L._SY88.jpg'],\n",
       "  'styles': {'Size:': ' None', 'Color:': ' Silver'}},\n",
       " {'rating': 5.0,\n",
       "  'reviewer_name': 'Susan C',\n",
       "  'product_id': 'B00006IFQJ',\n",
       "  'review_title': 'I LOVE THIS LITTLE POT!!!',\n",
       "  'review_time': '04 10, 2016',\n",
       "  'images': ['https://images-na.ssl-images-amazon.com/images/I/61ATK5Xz2zL._SY88.jpg'],\n",
       "  'styles': {'Size:': ' None', 'Color:': ' Silver'}},\n",
       " {'rating': 4.0,\n",
       "  'reviewer_name': 'Kort',\n",
       "  'product_id': 'B00006IZY5',\n",
       "  'review_title': 'Good Gift For A Coffee Connoisseur On Your List',\n",
       "  'review_time': '10 5, 2017',\n",
       "  'images': ['https://images-na.ssl-images-amazon.com/images/I/71gkR6uADvL._SY88.jpg',\n",
       "   'https://images-na.ssl-images-amazon.com/images/I/61EFi0ZC8AL._SY88.jpg',\n",
       "   'https://images-na.ssl-images-amazon.com/images/I/71R4QHP3XKL._SY88.jpg'],\n",
       "  'styles': {'Style Name:': ' Travel Mug'}},\n",
       " {'rating': 2.0,\n",
       "  'reviewer_name': 'LMM',\n",
       "  'product_id': 'B00008ELEA',\n",
       "  'review_title': 'smelled like the cord was burning',\n",
       "  'review_time': '06 6, 2016',\n",
       "  'images': ['https://images-na.ssl-images-amazon.com/images/I/51xXENQhIGL._SY88.jpg'],\n",
       "  'styles': {'Size:': ' 4-Cup'}},\n",
       " {'rating': 5.0,\n",
       "  'reviewer_name': 'Samuel D. Self',\n",
       "  'product_id': 'B00009ADDR',\n",
       "  'review_title': 'Very sturdy, very heavy construction, will last a lifetime.',\n",
       "  'review_time': '04 17, 2018',\n",
       "  'images': ['https://images-na.ssl-images-amazon.com/images/I/71C5rEGDqfL._SY88.jpg',\n",
       "   'https://images-na.ssl-images-amazon.com/images/I/71rsteNCgfL._SY88.jpg',\n",
       "   'https://images-na.ssl-images-amazon.com/images/I/71B4oTj4qQL._SY88.jpg'],\n",
       "  'styles': {'Size:': ' 44 Ounce', 'Color:': ' Brushed'}},\n",
       " {'rating': 5.0,\n",
       "  'reviewer_name': 'Rob S.',\n",
       "  'product_id': 'B00009ADDR',\n",
       "  'review_title': 'Blacker than the picture on Amazon looks!',\n",
       "  'review_time': '07 14, 2017',\n",
       "  'images': ['https://images-na.ssl-images-amazon.com/images/I/71CR7TbQfqL._SY88.jpg'],\n",
       "  'styles': {'Size:': ' 23 Ounce', 'Color:': ' Black Metallic'}},\n",
       " {'rating': 4.0,\n",
       "  'reviewer_name': 'Dave Lakhani',\n",
       "  'product_id': 'B00009ADDR',\n",
       "  'review_title': 'Beautiful, Well Designed Press But Really Only Big Enough For About Two Regular Cups Of Coffee',\n",
       "  'review_time': '11 9, 2016',\n",
       "  'images': ['https://images-na.ssl-images-amazon.com/images/I/61Am8Yh09VL._SY88.jpg'],\n",
       "  'styles': {'Size:': ' 17 Ounce', 'Color:': ' Polished'}},\n",
       " {'rating': 5.0,\n",
       "  'reviewer_name': 'J. Sullivan',\n",
       "  'product_id': 'B00009ADDR',\n",
       "  'review_title': 'Impressive Filtration and Exceptionally High Quality',\n",
       "  'review_time': '11 4, 2016',\n",
       "  'images': ['https://images-na.ssl-images-amazon.com/images/I/41ESEiuFMHL._SY88.jpg'],\n",
       "  'styles': {'Size:': ' 17 Ounce', 'Color:': ' Polished'}},\n",
       " {'rating': 5.0,\n",
       "  'reviewer_name': 'Michael Z (QA Engineer)',\n",
       "  'product_id': 'B00009ADDR',\n",
       "  'review_title': 'One great French Press coffee maker',\n",
       "  'review_time': '07 9, 2016',\n",
       "  'images': ['https://images-na.ssl-images-amazon.com/images/I/71PPtdi9tKL._SY88.jpg',\n",
       "   'https://images-na.ssl-images-amazon.com/images/I/71bj92rH3qL._SY88.jpg'],\n",
       "  'styles': {'Size:': ' 23-Ounce', 'Color:': ' Brushed'}},\n",
       " {'rating': 5.0,\n",
       "  'reviewer_name': 'DDPartington',\n",
       "  'product_id': 'B00009ADDR',\n",
       "  'review_title': 'Exceptional Brewer for those wanting a Minimilistic approach for Great Coffee!',\n",
       "  'review_time': '12 29, 2015',\n",
       "  'images': ['https://images-na.ssl-images-amazon.com/images/I/71aup0OQx0L._SY88.jpg'],\n",
       "  'styles': {'Size:': ' 36 Ounce', 'Color:': ' Polished'}},\n",
       " {'rating': 4.0,\n",
       "  'reviewer_name': 'Nadia M',\n",
       "  'product_id': 'B00009ADDR',\n",
       "  'review_title': \"Excellent Quality Press but it's not TWO CUPS!!!\",\n",
       "  'review_time': '10 14, 2013',\n",
       "  'images': ['https://images-na.ssl-images-amazon.com/images/I/61yzqQx-8ML._SY88.jpg'],\n",
       "  'styles': {'Size:': ' 17-Ounce', 'Color:': ' Polished'}},\n",
       " {'rating': 5.0,\n",
       "  'reviewer_name': 'Thicket',\n",
       "  'product_id': 'B00009ADDR',\n",
       "  'review_title': 'This press is stout!',\n",
       "  'review_time': '12 4, 2007',\n",
       "  'images': ['https://images-na.ssl-images-amazon.com/images/I/41xt8zREjbL._SY88.jpg'],\n",
       "  'styles': {'Size:': ' 36-Ounce', 'Color:': ' Polished'}},\n",
       " {'rating': 5.0,\n",
       "  'reviewer_name': 'barkingburro',\n",
       "  'product_id': 'B00009OWEV',\n",
       "  'review_title': 'One of the best ways to brew coffee',\n",
       "  'review_time': '12 28, 2009',\n",
       "  'images': ['https://images-na.ssl-images-amazon.com/images/I/41+Tpr2PULL._SY88.jpg',\n",
       "   'https://images-na.ssl-images-amazon.com/images/I/61tcKszhiFL._SY88.jpg'],\n",
       "  'styles': {'Size:': ' 1-Liter', 'Color:': ' Black'}},\n",
       " {'rating': 5.0,\n",
       "  'reviewer_name': 'FarmD',\n",
       "  'product_id': 'B00009RXMQ',\n",
       "  'review_title': 'Fairly simple to use and cheaper than going to starbucks',\n",
       "  'review_time': '07 19, 2013',\n",
       "  'images': ['https://images-na.ssl-images-amazon.com/images/I/61zqVv0geSL._SY88.png',\n",
       "   'https://images-na.ssl-images-amazon.com/images/I/81KT-A-ybUL._SY88.png',\n",
       "   'https://images-na.ssl-images-amazon.com/images/I/81WPg4z-zPL._SY88.png',\n",
       "   'https://images-na.ssl-images-amazon.com/images/I/51-1v4azTTL._SY88.jpg',\n",
       "   'https://images-na.ssl-images-amazon.com/images/I/51zLmSR8sdL._SY88.jpg'],\n",
       "  'styles': {'Color:': ' Black'}},\n",
       " {'rating': 5.0,\n",
       "  'reviewer_name': 'John',\n",
       "  'product_id': 'B00009V4FI',\n",
       "  'review_title': 'Does the trick and is very attractive',\n",
       "  'review_time': '11 23, 2012',\n",
       "  'images': ['https://images-na.ssl-images-amazon.com/images/I/61z9nGr0irL._SY88.jpg'],\n",
       "  'styles': {'Size:': ' 16 Ounce', 'Package Quantity:': ' 1'}},\n",
       " {'rating': 5.0,\n",
       "  'reviewer_name': 'Carly R.',\n",
       "  'product_id': 'B00009V4FI',\n",
       "  'review_title': 'Does the Job',\n",
       "  'review_time': '08 27, 2012',\n",
       "  'images': ['https://images-na.ssl-images-amazon.com/images/I/517Z35F4+lL._SY88.jpg',\n",
       "   'https://images-na.ssl-images-amazon.com/images/I/51kLrPCyqrL._SY88.jpg'],\n",
       "  'styles': {'Size:': ' 32 Ounce', 'Package Quantity:': ' 1'}},\n",
       " {'rating': 5.0,\n",
       "  'reviewer_name': 'Bill',\n",
       "  'product_id': 'B0000A1ZMS',\n",
       "  'review_title': \"Nothin' Wrong This!\",\n",
       "  'review_time': '03 26, 2017',\n",
       "  'images': ['https://images-na.ssl-images-amazon.com/images/I/71SeAR4TQpL._SY88.jpg',\n",
       "   'https://images-na.ssl-images-amazon.com/images/I/713OdFQilbL._SY88.jpg'],\n",
       "  'styles': {'Color:': ' Black', 'Style Name:': ' Coffeemaker'}},\n",
       " {'rating': 1.0,\n",
       "  'reviewer_name': 'Marcia S.',\n",
       "  'product_id': 'B0000A1ZMS',\n",
       "  'review_title': 'Look what happened to this once great Cuisinart coffeemaker.',\n",
       "  'review_time': '11 12, 2016',\n",
       "  'images': ['https://images-na.ssl-images-amazon.com/images/I/51B8eue4nHL._SY88.jpg',\n",
       "   'https://images-na.ssl-images-amazon.com/images/I/519NziREFIL._SY88.jpg',\n",
       "   'https://images-na.ssl-images-amazon.com/images/I/51v+A1zWqTL._SY88.jpg'],\n",
       "  'styles': {'Color:': ' Black', 'Style Name:': ' Coffeemaker'}},\n",
       " {'rating': 4.0,\n",
       "  'reviewer_name': 'Mr. Walker',\n",
       "  'product_id': 'B0000A1ZMS',\n",
       "  'review_title': 'Good flavor, strength, and temp.; can get HOT',\n",
       "  'review_time': '03 5, 2014',\n",
       "  'images': ['https://images-na.ssl-images-amazon.com/images/I/51xMBNHSSoL._SY88.jpg',\n",
       "   'https://images-na.ssl-images-amazon.com/images/I/41GZeQPMW0L._SY88.jpg',\n",
       "   'https://images-na.ssl-images-amazon.com/images/I/41LurFC9+PL._SY88.jpg',\n",
       "   'https://images-na.ssl-images-amazon.com/images/I/51PxqDbouML._SY88.jpg'],\n",
       "  'styles': {'Color:': ' Black', 'Style Name:': ' Coffeemaker'}},\n",
       " {'rating': 5.0,\n",
       "  'reviewer_name': 'mamacarla',\n",
       "  'product_id': 'B0000A1ZMS',\n",
       "  'review_title': 'Cute, functional',\n",
       "  'review_time': '01 3, 2014',\n",
       "  'images': ['https://images-na.ssl-images-amazon.com/images/I/71hUhHKHgQL._SY88.jpg'],\n",
       "  'styles': {'Color:': ' Pink', 'Style Name:': ' Coffeemaker'}},\n",
       " {'rating': 2.0,\n",
       "  'reviewer_name': 'Jimmie',\n",
       "  'product_id': 'B0000A1ZMS',\n",
       "  'review_title': 'Leaks and more',\n",
       "  'review_time': '01 13, 2011',\n",
       "  'images': ['https://images-na.ssl-images-amazon.com/images/I/51U4K+PzETL._SY88.jpg'],\n",
       "  'styles': {'Color:': ' Black', 'Style Name:': ' Coffeemaker'}},\n",
       " {'rating': 5.0,\n",
       "  'reviewer_name': 'Noah Boddy',\n",
       "  'product_id': 'B0000AN4CO',\n",
       "  'review_title': 'Keeps the air out of there!',\n",
       "  'review_time': '09 7, 2016',\n",
       "  'images': ['https://images-na.ssl-images-amazon.com/images/I/71gmvQNa1tL._SY88.jpg',\n",
       "   'https://images-na.ssl-images-amazon.com/images/I/71RSpp+yRNL._SY88.jpg',\n",
       "   'https://images-na.ssl-images-amazon.com/images/I/71i-w1td8pL._SY88.jpg'],\n",
       "  'styles': {'Size:': ' 6.1 x 6.1 x 10.1\"'}},\n",
       " {'rating': 5.0,\n",
       "  'reviewer_name': 'Julie Freeman',\n",
       "  'product_id': 'B0000CCQKV',\n",
       "  'review_title': 'Awesome product...great price!',\n",
       "  'review_time': '08 17, 2016',\n",
       "  'images': ['https://images-na.ssl-images-amazon.com/images/I/613WVFu8KDL._SY88.jpg'],\n",
       "  'styles': {'Size:': ' 2 Bundlers'}},\n",
       " {'rating': 4.0,\n",
       "  'reviewer_name': 'Homer',\n",
       "  'product_id': 'B0000CFFS6',\n",
       "  'review_title': 'Works great once you figure out how to take it off',\n",
       "  'review_time': '01 2, 2016',\n",
       "  'images': ['https://images-na.ssl-images-amazon.com/images/I/71l3LH-AH4L._SY88.jpg'],\n",
       "  'styles': {'Style Name:': ' Regular Mouth'}},\n",
       " {'rating': 5.0,\n",
       "  'reviewer_name': 'Crystal',\n",
       "  'product_id': 'B0000CFLCT',\n",
       "  'review_title': 'Exactly what I needed',\n",
       "  'review_time': '04 23, 2018',\n",
       "  'images': ['https://images-na.ssl-images-amazon.com/images/I/61ennMa+zML._SY88.jpg'],\n",
       "  'styles': {'Size:': ' Pack of 1',\n",
       "   'Style:': ' 6 Cup Cone with Glass Carafe'}},\n",
       " {'rating': 5.0,\n",
       "  'reviewer_name': 'D. Currie',\n",
       "  'product_id': 'B0000CFLCT',\n",
       "  'review_title': 'I absolutely love this!  Makes delicious coffee even if the power goes out.',\n",
       "  'review_time': '09 20, 2017',\n",
       "  'images': ['https://images-na.ssl-images-amazon.com/images/I/81pvv9VQw3L._SY88.jpg'],\n",
       "  'styles': {'Size:': ' Pack of 1',\n",
       "   'Style:': ' 6 Cup Cone with Glass Carafe'}}]"
      ]
     },
     "execution_count": 19,
     "metadata": {},
     "output_type": "execute_result"
    }
   ],
   "source": [
    "list(reviews)"
   ]
  },
  {
   "cell_type": "code",
   "execution_count": 21,
   "metadata": {},
   "outputs": [
    {
     "data": {
      "text/plain": [
       "86"
      ]
     },
     "execution_count": 21,
     "metadata": {},
     "output_type": "execute_result"
    }
   ],
   "source": [
    "# Replace None with appropriate code\n",
    "num_reviews = len(reviews)\n",
    "num_reviews"
   ]
  },
  {
   "cell_type": "code",
   "execution_count": 11,
   "metadata": {},
   "outputs": [
    {
     "name": "stdout",
     "output_type": "stream",
     "text": [
      "The coffee product review dataset contains 22 reviews\n"
     ]
    }
   ],
   "source": [
    "# Run this cell without changes\n",
    "print(\"The coffee product review dataset contains {} reviews\".format(num_reviews))"
   ]
  },
  {
   "cell_type": "markdown",
   "metadata": {},
   "source": [
    "Ok, so now we know how many records we are working with! Let's investigate what each record looks like. In the cell below, replace `None` with appropriate code to select the first review"
   ]
  },
  {
   "cell_type": "code",
   "execution_count": 23,
   "metadata": {},
   "outputs": [
    {
     "data": {
      "text/plain": [
       "{'rating': 5.0,\n",
       " 'reviewer_name': 'Sns073194',\n",
       " 'product_id': 'B00004RFRV',\n",
       " 'review_title': 'Perfect cafsito every time',\n",
       " 'review_time': '03 11, 2018',\n",
       " 'images': ['https://images-na.ssl-images-amazon.com/images/I/71d2cQEgJsL._SY88.jpg'],\n",
       " 'styles': {'Size:': ' 6-Cup', 'Color:': ' Silver'}}"
      ]
     },
     "execution_count": 23,
     "metadata": {},
     "output_type": "execute_result"
    }
   ],
   "source": [
    "# Replace None with appropriate code\n",
    "first_review = reviews[0]\n",
    "first_review"
   ]
  },
  {
   "cell_type": "markdown",
   "metadata": {},
   "source": [
    "Now we can check out the keys:"
   ]
  },
  {
   "cell_type": "code",
   "execution_count": 25,
   "metadata": {},
   "outputs": [
    {
     "data": {
      "text/plain": [
       "dict_keys(['rating', 'reviewer_name', 'product_id', 'review_title', 'review_time', 'images', 'styles'])"
      ]
     },
     "execution_count": 25,
     "metadata": {},
     "output_type": "execute_result"
    }
   ],
   "source": [
    "# Run this cell without changes\n",
    "first_review.keys()"
   ]
  },
  {
   "cell_type": "code",
   "execution_count": 31,
   "metadata": {},
   "outputs": [
    {
     "data": {
      "text/plain": [
       "dict_keys"
      ]
     },
     "execution_count": 31,
     "metadata": {},
     "output_type": "execute_result"
    }
   ],
   "source": [
    "type(first_review.keys())"
   ]
  },
  {
   "cell_type": "markdown",
   "metadata": {},
   "source": [
    "Before looking at the answer below, try to identify: **what data type are all of these keys?**\n",
    "\n",
    ".\n",
    "\n",
    ".\n",
    "\n",
    ".\n",
    "\n",
    "*Answer: They are all strings. We can tell because they are surrounded by single quotes, e.g. `'rating'`)*\n",
    "\n",
    "Now let's look at the values:"
   ]
  },
  {
   "cell_type": "code",
   "execution_count": 27,
   "metadata": {},
   "outputs": [
    {
     "data": {
      "text/plain": [
       "dict_values([5.0, 'Sns073194', 'B00004RFRV', 'Perfect cafsito every time', '03 11, 2018', ['https://images-na.ssl-images-amazon.com/images/I/71d2cQEgJsL._SY88.jpg'], {'Size:': ' 6-Cup', 'Color:': ' Silver'}])"
      ]
     },
     "execution_count": 27,
     "metadata": {},
     "output_type": "execute_result"
    }
   ],
   "source": [
    "# Run this cell without changes\n",
    "first_review.values()"
   ]
  },
  {
   "cell_type": "markdown",
   "metadata": {},
   "source": [
    "Before looking at the answer below, try to identify: **what data type are all of these values?**\n",
    "\n",
    ".\n",
    "\n",
    ".\n",
    "\n",
    ".\n",
    "\n",
    "*Answer: We have a mix of values* \n",
    " - *The first one, `5.0`, is a float (no quotes or brackets, decimal place at the end)*\n",
    " - *The next four are strings*\n",
    " - *The fifth is a list. We can tell because it's surrounded by square brackets `[]`. Inside that list is a string.*\n",
    " - *The last one is a dictionary. We can tell because it's surrounded by curly braces `{}` and colons indicating key-value pairs. All of the keys and values are strings in this nested dictionary.*\n",
    " "
   ]
  },
  {
   "cell_type": "markdown",
   "metadata": {},
   "source": [
    "Finally, let's look at the first five reviews, all at once:"
   ]
  },
  {
   "cell_type": "code",
   "execution_count": null,
   "metadata": {},
   "outputs": [],
   "source": [
    "# Run this cell without changes\n",
    "for index in range(5):\n",
    "    print(reviews[index])"
   ]
  },
  {
   "cell_type": "markdown",
   "metadata": {},
   "source": [
    "It looks like each review has the same structure as the first one.\n",
    "\n",
    "Edit the string below to describe what we've learned about the dataset so far:"
   ]
  },
  {
   "cell_type": "code",
   "execution_count": null,
   "metadata": {},
   "outputs": [],
   "source": [
    "# Replace <None> with an appropriate explanation\n",
    "\"\"\"\n",
    "For this analysis, we are using a dataset collected from <Amazon> by <Computer science researchers>\n",
    "\n",
    "Each record represents a <Review>\n",
    "\n",
    "There are a total of <86> records\n",
    "\n",
    "Each record has <None> keys, all of which are type <string>\n",
    "\n",
    "The values associated with these keys have mixed types: <float>, <string>, <Int>, and <dictionary>\n",
    "list"
   ]
  },
  {
   "cell_type": "markdown",
   "metadata": {},
   "source": [
    "## Review Selection\n",
    "\n",
    "Now that we have a general sense of what is contained in our dataset, let's implement a system for a user to be able to query for an individual record. For now, assume that the user can edit the value of a variable in this Jupyter Notebook.\n",
    "\n",
    "In the cell below, create a variable called `review_index` and set it to the value of `2`\n",
    "\n",
    "(Why are we bothering to use a variable, if we're just \"hard-coding\" it to 2? Because it's helpful to practice *parameterizing* our code, i.e. using variables that can have their values substituted rather than using the values directly.)"
   ]
  },
  {
   "cell_type": "code",
   "execution_count": 35,
   "metadata": {},
   "outputs": [
    {
     "data": {
      "text/plain": [
       "2"
      ]
     },
     "execution_count": 35,
     "metadata": {},
     "output_type": "execute_result"
    }
   ],
   "source": [
    "review_index = 2\n",
    "review_index"
   ]
  },
  {
   "cell_type": "markdown",
   "metadata": {},
   "source": [
    "Now let's use that review index to create a variable `selected_review` that extracts the relevant review dictionary from the list of review dictionaries"
   ]
  },
  {
   "cell_type": "code",
   "execution_count": 38,
   "metadata": {},
   "outputs": [
    {
     "data": {
      "text/plain": [
       "{'rating': 5.0,\n",
       " 'reviewer_name': 'Karen',\n",
       " 'product_id': 'B00004RFRV',\n",
       " 'review_title': 'Bialetti is the Best!',\n",
       " 'review_time': '11 12, 2017',\n",
       " 'images': ['https://images-na.ssl-images-amazon.com/images/I/81+XxFRGyBL._SY88.jpg'],\n",
       " 'styles': {'Size:': ' 12-Cup', 'Color:': ' Silver'}}"
      ]
     },
     "execution_count": 38,
     "metadata": {},
     "output_type": "execute_result"
    }
   ],
   "source": [
    "# Replace None with appropriate code\n",
    "selected_review = reviews[review_index]\n",
    "selected_review"
   ]
  },
  {
   "cell_type": "code",
   "execution_count": 42,
   "metadata": {},
   "outputs": [],
   "source": [
    "selected_reviews = ['rating']"
   ]
  },
  {
   "cell_type": "markdown",
   "metadata": {},
   "source": [
    "## Review Summary\n",
    "\n",
    "So far we have investigated the structure of our data, and written reusable code to extract a single review from the list. This allowed us to practice identifying data types and extracting information from nested lists and dictionaries.\n",
    "\n",
    "Now it's time to practice two other key skills: **conditionals** and **string parsing** (and optionally, learn how to display images with Python code in a Jupyter Notebook).\n",
    "\n",
    "We'll do this by **writing code to summarize a given review dictionary** in a more user-friendly way than the original raw dictionary format, practicing some data cleaning along the way.\n",
    "\n",
    "### Positive, Negative, or Neutral\n",
    "\n",
    "Using conditionals, let's display whether a given review is positive, negative, or neutral based on the value associated with the `rating` key. We'll use the following definitions:\n",
    "\n",
    " - Positive: `rating` value of 4 or 5 (out of 5)\n",
    " - Neutral: `rating` value of 3 (out of 5)\n",
    " - Negative: `rating` value of 1 or 2 (out of 5)\n",
    "\n",
    "Once you've found that value, print out: `This is a <blank> review` where `<blank>` is replaced with either `positive`, `negative`, or `neutral`.\n",
    "\n",
    "For example, with the current selection, the rating is 5.0, so we should print `This is a positive review`.\n",
    "\n",
    "First, let's extract the rating from the `selected_review` variable:"
   ]
  },
  {
   "cell_type": "code",
   "execution_count": 44,
   "metadata": {},
   "outputs": [
    {
     "data": {
      "text/plain": [
       "5.0"
      ]
     },
     "execution_count": 44,
     "metadata": {},
     "output_type": "execute_result"
    }
   ],
   "source": [
    "# Replace None with appropriate code\n",
    "selected_rating = selected_review['rating']\n",
    "selected_rating"
   ]
  },
  {
   "cell_type": "markdown",
   "metadata": {},
   "source": [
    "Now, in the cell below, write code using `selected_rating`, `if`, `elif` and `else` so that when `selected_rating` changes value, it will print out the right `This is a <blank> review` statement.\n",
    "\n",
    "(Again, since the current value of `selected_rating` == 5.0, your code should print out `This is a positive review`, but your code should be able to print different statements when `selected_rating` changes value!)"
   ]
  },
  {
   "cell_type": "code",
   "execution_count": 60,
   "metadata": {},
   "outputs": [
    {
     "name": "stdout",
     "output_type": "stream",
     "text": [
      "This is a positive review.\n"
     ]
    }
   ],
   "source": [
    "selected_ratings = 5.0\n",
    "if selected_rating < 3.0:\n",
    "    print(\"This is a negative review.\")\n",
    "elif selected_rating < 5.0:\n",
    "    print(\"This is a positive review.\")\n",
    "else:\n",
    "    print(\"This is a neutral review\")"
   ]
  },
  {
   "cell_type": "code",
   "execution_count": null,
   "metadata": {},
   "outputs": [],
   "source": []
  },
  {
   "cell_type": "markdown",
   "metadata": {},
   "source": [
    "Ok, now that this worked for a single example, let's try it out on a few others."
   ]
  },
  {
   "cell_type": "code",
   "execution_count": 70,
   "metadata": {},
   "outputs": [],
   "source": [
    "# Run this cell without changes\n",
    "review_index = 4\n",
    "selected_review = reviews[review_index]\n",
    "selected_rating = selected_review[\"rating\"]"
   ]
  },
  {
   "cell_type": "markdown",
   "metadata": {},
   "source": [
    "Paste your code from above to analyze the new selection. This one should say it's a negative review."
   ]
  },
  {
   "cell_type": "code",
   "execution_count": 66,
   "metadata": {},
   "outputs": [
    {
     "name": "stdout",
     "output_type": "stream",
     "text": [
      "This is a negative review\n"
     ]
    }
   ],
   "source": [
    "if selected_rating > 3:\n",
    "    print(\"This is a positive review\")\n",
    "elif selected_ratings == 3:\n",
    "    print(\"This is a neutral review\")\n",
    "else:\n",
    "    print(\"This is a negative review\")"
   ]
  },
  {
   "cell_type": "markdown",
   "metadata": {},
   "source": [
    "Let's try one more, which should say it's a neutral review."
   ]
  },
  {
   "cell_type": "code",
   "execution_count": 78,
   "metadata": {},
   "outputs": [
    {
     "name": "stdout",
     "output_type": "stream",
     "text": [
      "This is a positive review.\n"
     ]
    }
   ],
   "source": [
    "if selected_rating < 3.0:\n",
    "    print(\"This is a negative review.\")\n",
    "elif selected_rating < 5.0:\n",
    "    print(\"This is a positive review.\")\n",
    "else:\n",
    "    print(\"This is a neutral review\")"
   ]
  },
  {
   "cell_type": "code",
   "execution_count": 80,
   "metadata": {},
   "outputs": [],
   "source": [
    "# Run this cell without changes\n",
    "review_index = 47\n",
    "selected_review = reviews[review_index]\n",
    "selected_rating = selected_review[\"rating\"]"
   ]
  },
  {
   "cell_type": "code",
   "execution_count": null,
   "metadata": {},
   "outputs": [],
   "source": [
    "# Your code here (pasted from above)"
   ]
  },
  {
   "cell_type": "markdown",
   "metadata": {},
   "source": [
    "Great! We just practiced using conditionals to make a more user-friendly summary\n",
    "\n",
    "### Review Year\n",
    "\n",
    "While it may be less exciting than building machine learning models, a significant part of data science is data cleaning. Lets start to practice some data cleaning skills with the `review_time` key-value pairs.\n",
    "\n",
    "For the rest of this lab, we'll go ahead and set up three variables to represent the positive, negative, and neutral examples above.\n",
    "\n",
    "(Don't worry too much about this syntax; it uses \"unpacking\" and \"list comprehensions\", which we haven't covered yet.)"
   ]
  },
  {
   "cell_type": "code",
   "execution_count": 95,
   "metadata": {},
   "outputs": [],
   "source": [
    "# Run this cell without changes\n",
    "\n",
    "selected_review_indices = (2, 4, 47)\n",
    "positive_review, negative_review, neutral_review = [reviews[i] for i in selected_review_indices]"
   ]
  },
  {
   "cell_type": "code",
   "execution_count": 97,
   "metadata": {},
   "outputs": [
    {
     "data": {
      "text/plain": [
       "{'rating': 5.0,\n",
       " 'reviewer_name': 'Karen',\n",
       " 'product_id': 'B00004RFRV',\n",
       " 'review_title': 'Bialetti is the Best!',\n",
       " 'review_time': '11 12, 2017',\n",
       " 'images': ['https://images-na.ssl-images-amazon.com/images/I/81+XxFRGyBL._SY88.jpg'],\n",
       " 'styles': {'Size:': ' 12-Cup', 'Color:': ' Silver'}}"
      ]
     },
     "execution_count": 97,
     "metadata": {},
     "output_type": "execute_result"
    }
   ],
   "source": [
    "positive_review"
   ]
  },
  {
   "cell_type": "markdown",
   "metadata": {},
   "source": [
    "Now let's extract the `review_time` value from the positive review:"
   ]
  },
  {
   "cell_type": "code",
   "execution_count": 99,
   "metadata": {},
   "outputs": [
    {
     "data": {
      "text/plain": [
       "'11 12, 2017'"
      ]
     },
     "execution_count": 99,
     "metadata": {},
     "output_type": "execute_result"
    }
   ],
   "source": [
    "# Run this cell without changes\n",
    "positive_review_time = positive_review[\"review_time\"]\n",
    "positive_review_time"
   ]
  },
  {
   "cell_type": "code",
   "execution_count": 101,
   "metadata": {},
   "outputs": [
    {
     "data": {
      "text/plain": [
       "'2017'"
      ]
     },
     "execution_count": 101,
     "metadata": {},
     "output_type": "execute_result"
    }
   ],
   "source": [
    "positive_review_time[-4: ]"
   ]
  },
  {
   "cell_type": "markdown",
   "metadata": {},
   "source": [
    "Ok, it looks like this is is a string showing the month, the day, and then the year that the review was written. Write code to extract the last 4 characters of the string, then convert it into an integer"
   ]
  },
  {
   "cell_type": "code",
   "execution_count": 103,
   "metadata": {},
   "outputs": [
    {
     "data": {
      "text/plain": [
       "2017"
      ]
     },
     "execution_count": 103,
     "metadata": {},
     "output_type": "execute_result"
    }
   ],
   "source": [
    "# Replace None with appropriate code\n",
    "positive_review_year = int(positive_review_time[-4: ])\n",
    "positive_review_year"
   ]
  },
  {
   "cell_type": "code",
   "execution_count": 105,
   "metadata": {},
   "outputs": [
    {
     "data": {
      "text/plain": [
       "int"
      ]
     },
     "execution_count": 105,
     "metadata": {},
     "output_type": "execute_result"
    }
   ],
   "source": [
    "# Run this cell without changes\n",
    "# This should show `int`\n",
    "type(positive_review_year)"
   ]
  },
  {
   "cell_type": "markdown",
   "metadata": {},
   "source": [
    "Repeat the same logic for the negative review and the neutral review"
   ]
  },
  {
   "cell_type": "code",
   "execution_count": 107,
   "metadata": {},
   "outputs": [
    {
     "data": {
      "text/plain": [
       "'04 17, 2015'"
      ]
     },
     "execution_count": 107,
     "metadata": {},
     "output_type": "execute_result"
    }
   ],
   "source": [
    "positive_review_time = neutral_review[\"review_time\"]\n",
    "positive_review_time"
   ]
  },
  {
   "cell_type": "code",
   "execution_count": 115,
   "metadata": {},
   "outputs": [
    {
     "data": {
      "text/plain": [
       "'04 17, 2015'"
      ]
     },
     "execution_count": 115,
     "metadata": {},
     "output_type": "execute_result"
    }
   ],
   "source": [
    "neutral_review_time = neutral_review[\"review_time\"]\n",
    "neutral_review_time"
   ]
  },
  {
   "cell_type": "code",
   "execution_count": 117,
   "metadata": {},
   "outputs": [
    {
     "data": {
      "text/plain": [
       "2015"
      ]
     },
     "execution_count": 117,
     "metadata": {},
     "output_type": "execute_result"
    }
   ],
   "source": [
    "neutral_review_time = int(neutral_review_time[-4: ])\n",
    "neutral_review_time"
   ]
  },
  {
   "cell_type": "code",
   "execution_count": 121,
   "metadata": {},
   "outputs": [
    {
     "data": {
      "text/plain": [
       "int"
      ]
     },
     "execution_count": 121,
     "metadata": {},
     "output_type": "execute_result"
    }
   ],
   "source": [
    "type(neutral_review_time)"
   ]
  },
  {
   "cell_type": "markdown",
   "metadata": {},
   "source": [
    "### Bonus: Images\n",
    "\n",
    "(You can skip past this section if you want — this content will not be assessed.)\n",
    "\n",
    "One of the reasons Jupyter Notebooks are such a powerful data science tool is that they allow you to do a bit of web development without learning a new language beyond Python and Markdown. This entire notebook is just a complicated web page, and the information you've been printing out so far means you are creating dynamic web elements with your code!\n",
    "\n",
    "In addition to displaying the output of cells as strings of data, we can actually use Python to display images. We'll use the `Image` class from the `display` submodule of the `IPython` library, which is kind of like using the built-in `print` function to write text. There are a lot of other options in the `display` submodule that we won't cover, but you can read about them [here](https://ipython.readthedocs.io/en/stable/api/generated/IPython.display.html)."
   ]
  },
  {
   "cell_type": "code",
   "execution_count": 88,
   "metadata": {},
   "outputs": [],
   "source": [
    "# Run this cell without changes\n",
    "from IPython.display import Image"
   ]
  },
  {
   "cell_type": "markdown",
   "metadata": {},
   "source": [
    "Here is an example of using the `Image` class with a hard-coded image:"
   ]
  },
  {
   "cell_type": "code",
   "execution_count": 86,
   "metadata": {},
   "outputs": [
    {
     "ename": "NameError",
     "evalue": "name 'Image' is not defined",
     "output_type": "error",
     "traceback": [
      "\u001b[1;31m---------------------------------------------------------------------------\u001b[0m",
      "\u001b[1;31mNameError\u001b[0m                                 Traceback (most recent call last)",
      "Cell \u001b[1;32mIn[86], line 2\u001b[0m\n\u001b[0;32m      1\u001b[0m \u001b[38;5;66;03m# Run this cell without changes\u001b[39;00m\n\u001b[1;32m----> 2\u001b[0m Image(\u001b[38;5;124m'\u001b[39m\u001b[38;5;124mhttps://www.google.com/images/branding/googlelogo/2x/googlelogo_color_272x92dp.png\u001b[39m\u001b[38;5;124m'\u001b[39m)\n",
      "\u001b[1;31mNameError\u001b[0m: name 'Image' is not defined"
     ]
    }
   ],
   "source": [
    "# Run this cell without changes\n",
    "Image('https://www.google.com/images/branding/googlelogo/2x/googlelogo_color_272x92dp.png')"
   ]
  },
  {
   "cell_type": "markdown",
   "metadata": {},
   "source": [
    "Recall that our data contains links to images:"
   ]
  },
  {
   "cell_type": "code",
   "execution_count": null,
   "metadata": {},
   "outputs": [],
   "source": [
    "# Run this cell without changes\n",
    "positive_review"
   ]
  },
  {
   "cell_type": "markdown",
   "metadata": {},
   "source": [
    "The image link is a string, contained in a list, associated with the key `images`, so we'll extract it like this:"
   ]
  },
  {
   "cell_type": "code",
   "execution_count": null,
   "metadata": {},
   "outputs": [],
   "source": [
    "# Run this cell without changes\n",
    "positive_review_image_url = positive_review['images'][0]\n",
    "positive_review_image_url"
   ]
  },
  {
   "cell_type": "markdown",
   "metadata": {},
   "source": [
    "Now we can plug that into the `Image` tool:"
   ]
  },
  {
   "cell_type": "code",
   "execution_count": 82,
   "metadata": {},
   "outputs": [
    {
     "ename": "NameError",
     "evalue": "name 'Image' is not defined",
     "output_type": "error",
     "traceback": [
      "\u001b[1;31m---------------------------------------------------------------------------\u001b[0m",
      "\u001b[1;31mNameError\u001b[0m                                 Traceback (most recent call last)",
      "Cell \u001b[1;32mIn[82], line 2\u001b[0m\n\u001b[0;32m      1\u001b[0m \u001b[38;5;66;03m# Run this cell without changes\u001b[39;00m\n\u001b[1;32m----> 2\u001b[0m Image(positive_review_image_url)\n",
      "\u001b[1;31mNameError\u001b[0m: name 'Image' is not defined"
     ]
    }
   ],
   "source": [
    "# Run this cell without changes\n",
    "Image(positive_review_image_url)"
   ]
  },
  {
   "cell_type": "markdown",
   "metadata": {},
   "source": [
    "The same goes for the negative and neutral reviews:"
   ]
  },
  {
   "cell_type": "code",
   "execution_count": null,
   "metadata": {},
   "outputs": [],
   "source": [
    "# Run this cell without changes\n",
    "negative_review_image_url = negative_review['images'][0]\n",
    "Image(negative_review_image_url)"
   ]
  },
  {
   "cell_type": "code",
   "execution_count": null,
   "metadata": {},
   "outputs": [],
   "source": [
    "# Run this cell without changes\n",
    "neutral_review_image_url = neutral_review['images'][0]\n",
    "Image(neutral_review_image_url)"
   ]
  },
  {
   "cell_type": "markdown",
   "metadata": {},
   "source": [
    "### Bringing It All Together\n",
    "\n",
    "Now that we have individually extracted all of the relevant pieces, let's display a complete review summary based on a specified `review_index`\n",
    "\n",
    "We'll use index `2` (the positive review) as an example, although someone using your notebook should be able to change just the value of `review_index` and the rest should automatically update."
   ]
  },
  {
   "cell_type": "code",
   "execution_count": null,
   "metadata": {},
   "outputs": [],
   "source": [
    "# Run this cell without changes\n",
    "review_index = 2"
   ]
  },
  {
   "cell_type": "markdown",
   "metadata": {},
   "source": [
    "The complete summary for index `2` should look like this:\n",
    "\n",
    "```\n",
    "\"Bialetti is the Best!\"\n",
    "This was a positive review written by Karen in 2017. \n",
    "```\n",
    "\n",
    "Optionally, it can also show the first associated image."
   ]
  },
  {
   "cell_type": "code",
   "execution_count": 127,
   "metadata": {},
   "outputs": [
    {
     "data": {
      "text/plain": [
       "{'rating': 5.0,\n",
       " 'reviewer_name': 'Karen',\n",
       " 'product_id': 'B00004RFRV',\n",
       " 'review_title': 'Bialetti is the Best!',\n",
       " 'review_time': '11 12, 2017',\n",
       " 'images': ['https://images-na.ssl-images-amazon.com/images/I/81+XxFRGyBL._SY88.jpg'],\n",
       " 'styles': {'Size:': ' 12-Cup', 'Color:': ' Silver'}}"
      ]
     },
     "execution_count": 127,
     "metadata": {},
     "output_type": "execute_result"
    }
   ],
   "source": [
    "reviews[review_index]"
   ]
  },
  {
   "cell_type": "code",
   "execution_count": 131,
   "metadata": {},
   "outputs": [
    {
     "data": {
      "text/plain": [
       "'Karen'"
      ]
     },
     "execution_count": 131,
     "metadata": {},
     "output_type": "execute_result"
    }
   ],
   "source": [
    "# your code here\n",
    "# Bialetti is the best\n",
    "# This was a positive review written by Karen in 2017\n",
    "\n",
    "review_index = 2\n",
    "selected_review = reviews[review_index]\n",
    "selected_review_title = selected_review[\"reviewer_name\"]\n",
    "selected_review_title"
   ]
  },
  {
   "cell_type": "code",
   "execution_count": 137,
   "metadata": {},
   "outputs": [
    {
     "ename": "TypeError",
     "evalue": "'>' not supported between instances of 'dict' and 'int'",
     "output_type": "error",
     "traceback": [
      "\u001b[1;31m---------------------------------------------------------------------------\u001b[0m",
      "\u001b[1;31mTypeError\u001b[0m                                 Traceback (most recent call last)",
      "Cell \u001b[1;32mIn[137], line 1\u001b[0m\n\u001b[1;32m----> 1\u001b[0m \u001b[38;5;28;01mif\u001b[39;00m selected_review \u001b[38;5;241m>\u001b[39m \u001b[38;5;241m3\u001b[39m:\n\u001b[0;32m      2\u001b[0m     \u001b[38;5;28mprint\u001b[39m(\u001b[38;5;124m\"\u001b[39m\u001b[38;5;124mThis is a positive review\u001b[39m\u001b[38;5;124m\"\u001b[39m)\n\u001b[0;32m      3\u001b[0m \u001b[38;5;28;01melif\u001b[39;00m selected_rating \u001b[38;5;241m==\u001b[39m \u001b[38;5;241m3\u001b[39m:\n",
      "\u001b[1;31mTypeError\u001b[0m: '>' not supported between instances of 'dict' and 'int'"
     ]
    }
   ],
   "source": [
    "if selected_review > 3:\n",
    "    print(\"This is a positive review\")\n",
    "elif selected_rating == 3:\n",
    "    print(\"This is a neutral review\")\n",
    "else:\n",
    "    print(\"This is a negative review\")"
   ]
  },
  {
   "cell_type": "code",
   "execution_count": 129,
   "metadata": {},
   "outputs": [],
   "source": [
    "review_index = 2\n",
    "if review_index == 1:\n",
    "    summary = \"This was a negative review written by John in 2018.\"\n",
    "elif review_index ==2:\n",
    "    summary = \"Bialetti is the best!\"\n",
    "    author = \"Karen\"\n",
    "    year = \"2017\"\n",
    "    image_url = \"https://example.com/image1.jpg\"\n",
    "else:\n",
    "    summary = \"inalid review index\"\n",
    "    print(summary)"
   ]
  },
  {
   "cell_type": "markdown",
   "metadata": {},
   "source": [
    "## Conclusion\n",
    "\n",
    "In this cumulative lab, you practiced some of the skills you've learned so far using real-world data. Starting from a nested list of dictionaries (which also contained other lists and dictionaries), you were able to extract and transform data into a new format."
   ]
  }
 ],
 "metadata": {
  "kernelspec": {
   "display_name": "Python 3 (ipykernel)",
   "language": "python",
   "name": "python3"
  },
  "language_info": {
   "codemirror_mode": {
    "name": "ipython",
    "version": 3
   },
   "file_extension": ".py",
   "mimetype": "text/x-python",
   "name": "python",
   "nbconvert_exporter": "python",
   "pygments_lexer": "ipython3",
   "version": "3.12.7"
  }
 },
 "nbformat": 4,
 "nbformat_minor": 4
}
